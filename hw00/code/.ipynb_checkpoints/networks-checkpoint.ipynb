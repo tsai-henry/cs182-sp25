{
 "cells": [
  {
   "cell_type": "code",
   "execution_count": 1,
   "metadata": {
    "colab": {
     "base_uri": "https://localhost:8080/"
    },
    "id": "VySbxDdnB6Ng",
    "outputId": "d524b4e0-926b-419b-fd65-1930f46a3b30"
   },
   "outputs": [],
   "source": [
    "# #@title Download datasets\n",
    "\n",
    "# %cd deeplearning/datasets/\n",
    "# !bash ./get_datasets.sh\n",
    "# %cd ../.."
   ]
  },
  {
   "cell_type": "code",
   "execution_count": 2,
   "metadata": {
    "id": "pUR1MUuVA4Cs"
   },
   "outputs": [
    {
     "name": "stdout",
     "output_type": "stream",
     "text": [
      "/Users/henrytsai/Documents/CS 182/code/hw00/code\n"
     ]
    }
   ],
   "source": [
    "#@title Configure Jupyter Notebook\n",
    "import matplotlib \n",
    "import os \n",
    "import torch\n",
    "import numpy\n",
    "import sys\n",
    "import imageio\n",
    "os.chdir(\"/Users/henrytsai/Documents/CS 182/code/hw00/code\")\n",
    "print(os.getcwd())"
   ]
  },
  {
   "cell_type": "markdown",
   "metadata": {
    "id": "YybdAopk-mvQ"
   },
   "source": [
    "# Fully-Connected Neural Nets\n",
    "\n",
    "In this notebook we will implement fully-connected networks using a modular approach. For each layer we will implement a `forward` and a `backward` function. The `forward` function will receive inputs, weights, and other parameters and will return both an output and a `cache` object storing data needed for the backward pass, like this:\n",
    "\n",
    "```python\n",
    "def layer_forward(x, w):\n",
    "  \"\"\" Receive inputs x and weights w \"\"\"\n",
    "  # Do some computations ...\n",
    "  z = # ... some intermediate value\n",
    "  # Do some more computations ...\n",
    "  out = # the output\n",
    "   \n",
    "  cache = (x, w, z, out) # Values we need to compute gradients\n",
    "  \n",
    "  return out, cache\n",
    "```\n",
    "\n",
    "The backward pass will receive upstream derivatives and the `cache` object, and will return gradients with respect to the inputs and weights, like this:\n",
    "\n",
    "```python\n",
    "def layer_backward(dout, cache):\n",
    "  \"\"\"\n",
    "  Receive derivative of loss with respect to outputs and cache,\n",
    "  and compute derivative with respect to inputs.\n",
    "  \"\"\"\n",
    "  # Unpack cache values\n",
    "  x, w, z, out = cache\n",
    "  \n",
    "  # Use values in cache to compute derivatives\n",
    "  dx = # Derivative of loss with respect to x\n",
    "  dw = # Derivative of loss with respect to w\n",
    "  \n",
    "  return dx, dw\n",
    "```\n",
    "\n",
    "After implementing a bunch of layers this way, we will be able to easily combine them to build classifiers with different architectures."
   ]
  },
  {
   "cell_type": "code",
   "execution_count": 3,
   "metadata": {
    "id": "5rY3whPq-mvT"
   },
   "outputs": [],
   "source": [
    "# As usual, a bit of setup\n",
    "\n",
    "import time\n",
    "import numpy as np\n",
    "import matplotlib.pyplot as plt\n",
    "from deeplearning.classifiers.fc_net import *\n",
    "from deeplearning.data_utils import get_CIFAR10_data\n",
    "from deeplearning.gradient_check import eval_numerical_gradient, eval_numerical_gradient_array\n",
    "from deeplearning.solver import Solver\n",
    "\n",
    "plt.rcParams['figure.figsize'] = (10.0, 8.0) # set default size of plots\n",
    "plt.rcParams['image.interpolation'] = 'nearest'\n",
    "plt.rcParams['image.cmap'] = 'gray'\n",
    "\n",
    "# for auto-reloading external modules\n",
    "# see http://stackoverflow.com/questions/1907993/autoreload-of-modules-in-ipython\n",
    "\n",
    "def rel_error(x, y):\n",
    "    \"\"\" returns relative error \"\"\"\n",
    "    return np.max(np.abs(x - y) / (np.maximum(1e-8, np.abs(x) + np.abs(y))))"
   ]
  },
  {
   "cell_type": "code",
   "execution_count": 4,
   "metadata": {
    "colab": {
     "base_uri": "https://localhost:8080/"
    },
    "id": "Hx39aHp5-mvU",
    "outputId": "c308158c-16de-40cc-dfe9-ec35959f7de1"
   },
   "outputs": [
    {
     "name": "stdout",
     "output_type": "stream",
     "text": [
      "deeplearning/datasets/cifar-10-batches-py/data_batch_1\n",
      "deeplearning/datasets/cifar-10-batches-py/data_batch_2\n",
      "deeplearning/datasets/cifar-10-batches-py/data_batch_3\n",
      "deeplearning/datasets/cifar-10-batches-py/data_batch_4\n",
      "deeplearning/datasets/cifar-10-batches-py/data_batch_5\n",
      "deeplearning/datasets/cifar-10-batches-py/test_batch\n",
      "X_train:  (49000, 3, 32, 32)\n",
      "y_train:  (49000,)\n",
      "X_val:  (1000, 3, 32, 32)\n",
      "y_val:  (1000,)\n",
      "X_test:  (1000, 3, 32, 32)\n",
      "y_test:  (1000,)\n"
     ]
    }
   ],
   "source": [
    "# Lddoad the (preprocessed) CIFAR10 data.\n",
    "\n",
    "data = get_CIFAR10_data()\n",
    "for k, v in data.items():\n",
    "    print('%s: ' % k, v.shape)"
   ]
  },
  {
   "cell_type": "markdown",
   "metadata": {
    "id": "YxQO9UBq-mvU"
   },
   "source": [
    "# Affine layer: forward\n",
    "Open the file `deeplearning/layers.py` and implement the `affine_forward` function.\n",
    "\n",
    "Once you are done you can test your implementaion by running the following:"
   ]
  },
  {
   "cell_type": "code",
   "execution_count": 5,
   "metadata": {
    "colab": {
     "base_uri": "https://localhost:8080/"
    },
    "id": "wKjg1INq-mvU",
    "outputId": "1111171e-bfd5-4ba7-9833-dd0d9178e872"
   },
   "outputs": [
    {
     "name": "stdout",
     "output_type": "stream",
     "text": [
      "Testing affine_forward function:\n",
      "difference:  9.769849468192957e-10\n"
     ]
    }
   ],
   "source": [
    "# Test the affine_forward function\n",
    "\n",
    "num_inputs = 2\n",
    "input_shape = (4, 5, 6)\n",
    "output_dim = 3\n",
    "\n",
    "input_size = num_inputs * np.prod(input_shape)\n",
    "weight_size = output_dim * np.prod(input_shape)\n",
    "\n",
    "x = np.linspace(-0.1, 0.5, num=input_size).reshape(num_inputs, *input_shape)\n",
    "w = np.linspace(-0.2, 0.3, num=weight_size).reshape(np.prod(input_shape), output_dim)\n",
    "b = np.linspace(-0.3, 0.1, num=output_dim)\n",
    "\n",
    "out, _ = affine_forward(x, w, b)\n",
    "correct_out = np.array([[ 1.49834967,  1.70660132,  1.91485297],\n",
    "                        [ 3.25553199,  3.5141327,   3.77273342]])\n",
    "\n",
    "# Compare your output with ours. The error should be around 1e-9.\n",
    "print('Testing affine_forward function:')\n",
    "print('difference: ', rel_error(out, correct_out))"
   ]
  },
  {
   "cell_type": "markdown",
   "metadata": {
    "id": "SZmNs2sS-mvU"
   },
   "source": [
    "# Affine layer: backward\n",
    "Now implement the `affine_backward` function and test your implementation using numeric gradient checking."
   ]
  },
  {
   "cell_type": "code",
   "execution_count": 6,
   "metadata": {
    "colab": {
     "base_uri": "https://localhost:8080/"
    },
    "id": "NSlcsBNY-mvV",
    "outputId": "35dd9b64-8bcd-4e27-9859-a8b49de1a2e7"
   },
   "outputs": [
    {
     "name": "stdout",
     "output_type": "stream",
     "text": [
      "Testing affine_backward function:\n",
      "dx error:  2.1217828112437448e-10\n",
      "dw error:  5.049473680654879e-11\n",
      "db error:  1.362863030243415e-11\n"
     ]
    }
   ],
   "source": [
    "# Test the affine_backward function\n",
    "\n",
    "x = np.random.randn(10, 2, 3)\n",
    "w = np.random.randn(6, 5)\n",
    "b = np.random.randn(5)\n",
    "dout = np.random.randn(10, 5)\n",
    "\n",
    "dx_num = eval_numerical_gradient_array(lambda x: affine_forward(x, w, b)[0], x, dout)\n",
    "dw_num = eval_numerical_gradient_array(lambda w: affine_forward(x, w, b)[0], w, dout)\n",
    "db_num = eval_numerical_gradient_array(lambda b: affine_forward(x, w, b)[0], b, dout)\n",
    "\n",
    "_, cache = affine_forward(x, w, b)\n",
    "dx, dw, db = affine_backward(dout, cache)\n",
    "# The error should be around 1e-10\n",
    "print('Testing affine_backward function:')\n",
    "print('dx error: ', rel_error(dx_num, dx))\n",
    "print('dw error: ', rel_error(dw_num, dw))\n",
    "print('db error: ', rel_error(db_num, db))"
   ]
  },
  {
   "cell_type": "markdown",
   "metadata": {
    "id": "vzIyC-vm-mvV"
   },
   "source": [
    "# ReLU layer: forward\n",
    "Implement the forward pass for the ReLU activation function in the `relu_forward` function and test your implementation using the following:"
   ]
  },
  {
   "cell_type": "code",
   "execution_count": 7,
   "metadata": {
    "colab": {
     "base_uri": "https://localhost:8080/"
    },
    "id": "FVp_m32X-mvW",
    "outputId": "6d485d62-a0a7-4b66-cdb3-b04ca1dd6407"
   },
   "outputs": [
    {
     "name": "stdout",
     "output_type": "stream",
     "text": [
      "Testing relu_forward function:\n",
      "difference:  4.999999798022158e-08\n"
     ]
    }
   ],
   "source": [
    "# Test the relu_forward function\n",
    "\n",
    "x = np.linspace(-0.5, 0.5, num=12).reshape(3, 4)\n",
    "\n",
    "out, _ = relu_forward(x)\n",
    "correct_out = np.array([[ 0.,          0.,          0.,          0.,        ],\n",
    "                        [ 0.,          0.,          0.04545455,  0.13636364,],\n",
    "                        [ 0.22727273,  0.31818182,  0.40909091,  0.5,       ]])\n",
    "\n",
    "# Compare your output with ours. The error should be around 1e-8\n",
    "print('Testing relu_forward function:')\n",
    "print('difference: ', rel_error(out, correct_out))"
   ]
  },
  {
   "cell_type": "markdown",
   "metadata": {
    "id": "0lFnqSVx-mvW"
   },
   "source": [
    "# ReLU layer: backward\n",
    "Now implement the backward pass for the ReLU activation function in the `relu_backward` function and test your implementation using numeric gradient checking. Note that the ReLU activation is not differentiable at 0, but typically we don't worry about this and simply assign either 0 or 1 as the derivative by convention."
   ]
  },
  {
   "cell_type": "code",
   "execution_count": 8,
   "metadata": {
    "colab": {
     "base_uri": "https://localhost:8080/"
    },
    "id": "HO4dcVkF-mvW",
    "outputId": "ef38a98e-6acf-406d-8326-5f5c5321fedf"
   },
   "outputs": [
    {
     "name": "stdout",
     "output_type": "stream",
     "text": [
      "Testing relu_backward function:\n",
      "dx error:  3.2756087488034014e-12\n"
     ]
    }
   ],
   "source": [
    "x = np.random.randn(10, 10)\n",
    "dout = np.random.randn(*x.shape)\n",
    "\n",
    "dx_num = eval_numerical_gradient_array(lambda x: relu_forward(x)[0], x, dout)\n",
    "\n",
    "_, cache = relu_forward(x)\n",
    "dx = relu_backward(dout, cache)\n",
    "\n",
    "# The error should be around 1e-12\n",
    "print('Testing relu_backward function:')\n",
    "print('dx error: ', rel_error(dx_num, dx))"
   ]
  },
  {
   "cell_type": "markdown",
   "metadata": {
    "id": "FMGbkcFm-mvX"
   },
   "source": [
    "# \"Sandwich\" layers\n",
    "There are some common patterns of layers that are frequently used in neural nets. For example, affine layers are frequently followed by a ReLU nonlinearity. To make these common patterns easy, we define several convenience layers in the file `deeplearning/layer_utils.py`.\n",
    "\n",
    "For now take a look at the `affine_relu_forward` and `affine_relu_backward` functions, and run the following to numerically gradient check the backward pass:"
   ]
  },
  {
   "cell_type": "code",
   "execution_count": 9,
   "metadata": {
    "colab": {
     "base_uri": "https://localhost:8080/"
    },
    "id": "W5helswW-mvX",
    "outputId": "1c3bc805-30b0-4f76-9853-c9f7e4772079"
   },
   "outputs": [
    {
     "name": "stdout",
     "output_type": "stream",
     "text": [
      "Testing affine_relu_forward:\n",
      "dx error:  6.38049805799364e-11\n",
      "dw error:  7.087957944413344e-10\n",
      "db error:  2.0367490951712856e-11\n"
     ]
    }
   ],
   "source": [
    "from deeplearning.layer_utils import affine_relu_forward, affine_relu_backward\n",
    "\n",
    "x = np.random.randn(2, 3, 4)\n",
    "w = np.random.randn(12, 10)\n",
    "b = np.random.randn(10)\n",
    "dout = np.random.randn(2, 10)\n",
    "\n",
    "out, cache = affine_relu_forward(x, w, b)\n",
    "dx, dw, db = affine_relu_backward(dout, cache)\n",
    "\n",
    "dx_num = eval_numerical_gradient_array(lambda x: affine_relu_forward(x, w, b)[0], x, dout)\n",
    "dw_num = eval_numerical_gradient_array(lambda w: affine_relu_forward(x, w, b)[0], w, dout)\n",
    "db_num = eval_numerical_gradient_array(lambda b: affine_relu_forward(x, w, b)[0], b, dout)\n",
    "\n",
    "print('Testing affine_relu_forward:')\n",
    "print('dx error: ', rel_error(dx_num, dx))\n",
    "print('dw error: ', rel_error(dw_num, dw))\n",
    "print('db error: ', rel_error(db_num, db))"
   ]
  },
  {
   "cell_type": "markdown",
   "metadata": {
    "id": "IX09N9oU-mvX"
   },
   "source": [
    "# Loss layers: Softmax and SVM\n",
    "Here we provide two loss functions that we will use to train our deep neural networks. You should understand how they work by looking at the implementations in `deeplearning/layers.py`.\n",
    "\n",
    "You can make sure that the implementations are correct by running the following:"
   ]
  },
  {
   "cell_type": "code",
   "execution_count": 10,
   "metadata": {
    "colab": {
     "base_uri": "https://localhost:8080/"
    },
    "id": "g4dcun9X-mvX",
    "outputId": "1495020d-fb7c-4668-a05a-723c03195e6c"
   },
   "outputs": [
    {
     "name": "stdout",
     "output_type": "stream",
     "text": [
      "Testing svm_loss:\n",
      "loss:  9.002037228507152\n",
      "dx error:  1.4021566006651672e-09\n",
      "\n",
      "Testing softmax_loss:\n",
      "loss:  2.302789271469554\n",
      "dx error:  7.591691722759546e-09\n"
     ]
    }
   ],
   "source": [
    "num_classes, num_inputs = 10, 50\n",
    "x = 0.001 * np.random.randn(num_inputs, num_classes)\n",
    "y = np.random.randint(num_classes, size=num_inputs)\n",
    "\n",
    "dx_num = eval_numerical_gradient(lambda x: svm_loss(x, y)[0], x, verbose=False)\n",
    "loss, dx = svm_loss(x, y)\n",
    "\n",
    "# Test svm_loss function. Loss should be around 9 and dx error should be 1e-9\n",
    "print('Testing svm_loss:')\n",
    "print('loss: ', loss)\n",
    "print('dx error: ', rel_error(dx_num, dx))\n",
    "\n",
    "dx_num = eval_numerical_gradient(lambda x: softmax_loss(x, y)[0], x, verbose=False)\n",
    "loss, dx = softmax_loss(x, y)\n",
    "\n",
    "# Test softmax_loss function. Loss should be 2.3 and dx error should be 1e-8\n",
    "print('\\nTesting softmax_loss:')\n",
    "print('loss: ', loss)\n",
    "print('dx error: ', rel_error(dx_num, dx))"
   ]
  },
  {
   "cell_type": "markdown",
   "metadata": {
    "id": "-YbkT7kZ-mvY"
   },
   "source": [
    "# Two-layer network\n",
    "\n",
    "Open the file `deeplearning/classifiers/fc_net.py` and complete the implementation of the `TwoLayerNet` class. This class will serve as a model for the other networks you will implement in this assignment, so read through it to make sure you understand the API. Run the cell below to test your implementation."
   ]
  },
  {
   "cell_type": "code",
   "execution_count": 11,
   "metadata": {
    "colab": {
     "base_uri": "https://localhost:8080/"
    },
    "id": "YW5b1kBz-mvY",
    "outputId": "7c2f4004-d226-42ff-ac72-c547d153421a"
   },
   "outputs": [
    {
     "name": "stdout",
     "output_type": "stream",
     "text": [
      "Testing initialization ... \n",
      "Testing test-time forward pass ... \n",
      "Testing training loss (no regularization)\n",
      "Running numeric gradient check with reg =  0.0\n",
      "W1 relative error: 1.22e-08\n",
      "W2 relative error: 3.43e-10\n",
      "b1 relative error: 9.83e-09\n",
      "b2 relative error: 2.53e-10\n",
      "Running numeric gradient check with reg =  0.7\n",
      "W1 relative error: 2.53e-07\n",
      "W2 relative error: 1.37e-07\n",
      "b1 relative error: 1.56e-08\n",
      "b2 relative error: 9.09e-10\n"
     ]
    }
   ],
   "source": [
    "N, D, H, C = 3, 5, 50, 7\n",
    "X = np.random.randn(N, D)\n",
    "y = np.random.randint(C, size=N)\n",
    "\n",
    "std = 1e-2\n",
    "model = TwoLayerNet(input_dim=D, hidden_dim=H, num_classes=C, weight_scale=std)\n",
    "\n",
    "print ('Testing initialization ... ')\n",
    "W1_std = abs(model.params['W1'].std() - std)\n",
    "b1 = model.params['b1']\n",
    "W2_std = abs(model.params['W2'].std() - std)\n",
    "b2 = model.params['b2']\n",
    "assert W1_std < std / 10, 'First layer weights do not seem right'\n",
    "assert np.all(b1 == 0), 'First layer biases do not seem right'\n",
    "assert W2_std < std / 10, 'Second layer weights do not seem right'\n",
    "assert np.all(b2 == 0), 'Second layer biases do not seem right'\n",
    "\n",
    "print ('Testing test-time forward pass ... ')\n",
    "model.params['W1'] = np.linspace(-0.7, 0.3, num=D*H).reshape(D, H)\n",
    "model.params['b1'] = np.linspace(-0.1, 0.9, num=H)\n",
    "model.params['W2'] = np.linspace(-0.3, 0.4, num=H*C).reshape(H, C)\n",
    "model.params['b2'] = np.linspace(-0.9, 0.1, num=C)\n",
    "X = np.linspace(-5.5, 4.5, num=N*D).reshape(D, N).T\n",
    "scores = model.loss(X)\n",
    "correct_scores = np.asarray(\n",
    "  [[11.53165108,  12.2917344,   13.05181771,  13.81190102,  14.57198434, 15.33206765,  16.09215096],\n",
    "   [12.05769098,  12.74614105,  13.43459113,  14.1230412,   14.81149128, 15.49994135,  16.18839143],\n",
    "   [12.58373087,  13.20054771,  13.81736455,  14.43418138,  15.05099822, 15.66781506,  16.2846319 ]])\n",
    "scores_diff = np.abs(scores - correct_scores).sum()\n",
    "assert scores_diff < 1e-6, 'Problem with test-time forward pass'\n",
    "\n",
    "print ('Testing training loss (no regularization)')\n",
    "y = np.asarray([0, 5, 1])\n",
    "loss, grads = model.loss(X, y)\n",
    "correct_loss = 3.4702243556\n",
    "assert abs(loss - correct_loss) < 1e-10, 'Problem with training-time loss'\n",
    "\n",
    "model.reg = 1.0\n",
    "loss, grads = model.loss(X, y)\n",
    "correct_loss = 26.5948426952\n",
    "assert abs(loss - correct_loss) < 1e-10, 'Problem with regularization loss'\n",
    "\n",
    "for reg in [0.0, 0.7]:\n",
    "    print ('Running numeric gradient check with reg = ', reg)\n",
    "    model.reg = reg\n",
    "    loss, grads = model.loss(X, y)\n",
    "\n",
    "    for name in sorted(grads):\n",
    "        f = lambda _: model.loss(X, y)[0]\n",
    "        grad_num = eval_numerical_gradient(f, model.params[name], verbose=False)\n",
    "        print ('%s relative error: %.2e' % (name, rel_error(grad_num, grads[name])))"
   ]
  },
  {
   "cell_type": "markdown",
   "metadata": {
    "id": "yVHZ1jBn-mvY"
   },
   "source": [
    "# Solver\n",
    "Following a modular design, for this assignment we have split the logic for training models into a separate class from the models themselves.\n",
    "\n",
    "Open the file `deeplearning/solver.py` and read through it to familiarize yourself with the API. After doing so, use a `Solver` instance to train a `TwoLayerNet` that achieves at least `50%` accuracy on the validation set."
   ]
  },
  {
   "cell_type": "code",
   "execution_count": 12,
   "metadata": {
    "colab": {
     "base_uri": "https://localhost:8080/"
    },
    "id": "60ll4Dnl-mvY",
    "outputId": "9514c284-2145-4add-f71e-5ce9158d1358"
   },
   "outputs": [
    {
     "name": "stdout",
     "output_type": "stream",
     "text": [
      "(Iteration 1 / 19600) loss: 2.305173\n",
      "(Epoch 0 / 20) train acc: 0.144000; val_acc: 0.142000\n"
     ]
    },
    {
     "name": "stderr",
     "output_type": "stream",
     "text": [
      "/Users/henrytsai/Documents/CS 182/code/hw00/code/deeplearning/layers.py:163: RuntimeWarning: divide by zero encountered in log\n",
      "  loss = -np.sum(np.log(probs[np.arange(N), y])) / N\n"
     ]
    },
    {
     "name": "stdout",
     "output_type": "stream",
     "text": [
      "(Iteration 101 / 19600) loss: inf\n",
      "(Iteration 201 / 19600) loss: inf\n"
     ]
    },
    {
     "name": "stderr",
     "output_type": "stream",
     "text": [
      "/Users/henrytsai/Documents/CS 182/code/hw00/code/deeplearning/layers.py:160: RuntimeWarning: overflow encountered in subtract\n",
      "  probs = np.exp(x - np.max(x, axis=1, keepdims=True))\n",
      "/Users/henrytsai/Documents/CS 182/code/hw00/code/deeplearning/layers.py:160: RuntimeWarning: invalid value encountered in subtract\n",
      "  probs = np.exp(x - np.max(x, axis=1, keepdims=True))\n"
     ]
    },
    {
     "name": "stdout",
     "output_type": "stream",
     "text": [
      "(Iteration 301 / 19600) loss: nan\n",
      "(Iteration 401 / 19600) loss: nan\n",
      "(Iteration 501 / 19600) loss: nan\n",
      "(Iteration 601 / 19600) loss: nan\n",
      "(Iteration 701 / 19600) loss: nan\n",
      "(Iteration 801 / 19600) loss: nan\n",
      "(Iteration 901 / 19600) loss: nan\n",
      "(Epoch 1 / 20) train acc: 0.116000; val_acc: 0.087000\n",
      "(Iteration 1001 / 19600) loss: nan\n",
      "(Iteration 1101 / 19600) loss: nan\n",
      "(Iteration 1201 / 19600) loss: nan\n",
      "(Iteration 1301 / 19600) loss: nan\n",
      "(Iteration 1401 / 19600) loss: nan\n",
      "(Iteration 1501 / 19600) loss: nan\n",
      "(Iteration 1601 / 19600) loss: nan\n",
      "(Iteration 1701 / 19600) loss: nan\n",
      "(Iteration 1801 / 19600) loss: nan\n",
      "(Iteration 1901 / 19600) loss: nan\n",
      "(Epoch 2 / 20) train acc: 0.087000; val_acc: 0.087000\n",
      "(Iteration 2001 / 19600) loss: nan\n",
      "(Iteration 2101 / 19600) loss: nan\n",
      "(Iteration 2201 / 19600) loss: nan\n",
      "(Iteration 2301 / 19600) loss: nan\n",
      "(Iteration 2401 / 19600) loss: nan\n",
      "(Iteration 2501 / 19600) loss: nan\n",
      "(Iteration 2601 / 19600) loss: nan\n",
      "(Iteration 2701 / 19600) loss: nan\n",
      "(Iteration 2801 / 19600) loss: nan\n",
      "(Iteration 2901 / 19600) loss: nan\n",
      "(Epoch 3 / 20) train acc: 0.102000; val_acc: 0.087000\n",
      "(Iteration 3001 / 19600) loss: nan\n",
      "(Iteration 3101 / 19600) loss: nan\n",
      "(Iteration 3201 / 19600) loss: nan\n",
      "(Iteration 3301 / 19600) loss: nan\n",
      "(Iteration 3401 / 19600) loss: nan\n",
      "(Iteration 3501 / 19600) loss: nan\n",
      "(Iteration 3601 / 19600) loss: nan\n",
      "(Iteration 3701 / 19600) loss: nan\n",
      "(Iteration 3801 / 19600) loss: nan\n",
      "(Iteration 3901 / 19600) loss: nan\n",
      "(Epoch 4 / 20) train acc: 0.112000; val_acc: 0.087000\n",
      "(Iteration 4001 / 19600) loss: nan\n",
      "(Iteration 4101 / 19600) loss: nan\n",
      "(Iteration 4201 / 19600) loss: nan\n",
      "(Iteration 4301 / 19600) loss: nan\n",
      "(Iteration 4401 / 19600) loss: nan\n",
      "(Iteration 4501 / 19600) loss: nan\n",
      "(Iteration 4601 / 19600) loss: nan\n",
      "(Iteration 4701 / 19600) loss: nan\n",
      "(Iteration 4801 / 19600) loss: nan\n",
      "(Epoch 5 / 20) train acc: 0.098000; val_acc: 0.087000\n",
      "(Iteration 4901 / 19600) loss: nan\n",
      "(Iteration 5001 / 19600) loss: nan\n",
      "(Iteration 5101 / 19600) loss: nan\n",
      "(Iteration 5201 / 19600) loss: nan\n",
      "(Iteration 5301 / 19600) loss: nan\n",
      "(Iteration 5401 / 19600) loss: nan\n",
      "(Iteration 5501 / 19600) loss: nan\n",
      "(Iteration 5601 / 19600) loss: nan\n",
      "(Iteration 5701 / 19600) loss: nan\n",
      "(Iteration 5801 / 19600) loss: nan\n",
      "(Epoch 6 / 20) train acc: 0.092000; val_acc: 0.087000\n",
      "(Iteration 5901 / 19600) loss: nan\n",
      "(Iteration 6001 / 19600) loss: nan\n",
      "(Iteration 6101 / 19600) loss: nan\n",
      "(Iteration 6201 / 19600) loss: nan\n",
      "(Iteration 6301 / 19600) loss: nan\n",
      "(Iteration 6401 / 19600) loss: nan\n",
      "(Iteration 6501 / 19600) loss: nan\n",
      "(Iteration 6601 / 19600) loss: nan\n",
      "(Iteration 6701 / 19600) loss: nan\n",
      "(Iteration 6801 / 19600) loss: nan\n",
      "(Epoch 7 / 20) train acc: 0.097000; val_acc: 0.087000\n",
      "(Iteration 6901 / 19600) loss: nan\n",
      "(Iteration 7001 / 19600) loss: nan\n",
      "(Iteration 7101 / 19600) loss: nan\n",
      "(Iteration 7201 / 19600) loss: nan\n",
      "(Iteration 7301 / 19600) loss: nan\n",
      "(Iteration 7401 / 19600) loss: nan\n",
      "(Iteration 7501 / 19600) loss: nan\n",
      "(Iteration 7601 / 19600) loss: nan\n",
      "(Iteration 7701 / 19600) loss: nan\n",
      "(Iteration 7801 / 19600) loss: nan\n",
      "(Epoch 8 / 20) train acc: 0.087000; val_acc: 0.087000\n",
      "(Iteration 7901 / 19600) loss: nan\n",
      "(Iteration 8001 / 19600) loss: nan\n",
      "(Iteration 8101 / 19600) loss: nan\n",
      "(Iteration 8201 / 19600) loss: nan\n",
      "(Iteration 8301 / 19600) loss: nan\n",
      "(Iteration 8401 / 19600) loss: nan\n",
      "(Iteration 8501 / 19600) loss: nan\n",
      "(Iteration 8601 / 19600) loss: nan\n",
      "(Iteration 8701 / 19600) loss: nan\n",
      "(Iteration 8801 / 19600) loss: nan\n",
      "(Epoch 9 / 20) train acc: 0.086000; val_acc: 0.087000\n",
      "(Iteration 8901 / 19600) loss: nan\n",
      "(Iteration 9001 / 19600) loss: nan\n",
      "(Iteration 9101 / 19600) loss: nan\n",
      "(Iteration 9201 / 19600) loss: nan\n",
      "(Iteration 9301 / 19600) loss: nan\n",
      "(Iteration 9401 / 19600) loss: nan\n",
      "(Iteration 9501 / 19600) loss: nan\n",
      "(Iteration 9601 / 19600) loss: nan\n",
      "(Iteration 9701 / 19600) loss: nan\n",
      "(Epoch 10 / 20) train acc: 0.092000; val_acc: 0.087000\n",
      "(Iteration 9801 / 19600) loss: nan\n",
      "(Iteration 9901 / 19600) loss: nan\n",
      "(Iteration 10001 / 19600) loss: nan\n",
      "(Iteration 10101 / 19600) loss: nan\n",
      "(Iteration 10201 / 19600) loss: nan\n",
      "(Iteration 10301 / 19600) loss: nan\n",
      "(Iteration 10401 / 19600) loss: nan\n",
      "(Iteration 10501 / 19600) loss: nan\n",
      "(Iteration 10601 / 19600) loss: nan\n",
      "(Iteration 10701 / 19600) loss: nan\n",
      "(Epoch 11 / 20) train acc: 0.091000; val_acc: 0.087000\n",
      "(Iteration 10801 / 19600) loss: nan\n",
      "(Iteration 10901 / 19600) loss: nan\n",
      "(Iteration 11001 / 19600) loss: nan\n",
      "(Iteration 11101 / 19600) loss: nan\n",
      "(Iteration 11201 / 19600) loss: nan\n",
      "(Iteration 11301 / 19600) loss: nan\n",
      "(Iteration 11401 / 19600) loss: nan\n",
      "(Iteration 11501 / 19600) loss: nan\n",
      "(Iteration 11601 / 19600) loss: nan\n",
      "(Iteration 11701 / 19600) loss: nan\n",
      "(Epoch 12 / 20) train acc: 0.103000; val_acc: 0.087000\n",
      "(Iteration 11801 / 19600) loss: nan\n",
      "(Iteration 11901 / 19600) loss: nan\n",
      "(Iteration 12001 / 19600) loss: nan\n",
      "(Iteration 12101 / 19600) loss: nan\n",
      "(Iteration 12201 / 19600) loss: nan\n",
      "(Iteration 12301 / 19600) loss: nan\n",
      "(Iteration 12401 / 19600) loss: nan\n",
      "(Iteration 12501 / 19600) loss: nan\n",
      "(Iteration 12601 / 19600) loss: nan\n",
      "(Iteration 12701 / 19600) loss: nan\n",
      "(Epoch 13 / 20) train acc: 0.090000; val_acc: 0.087000\n",
      "(Iteration 12801 / 19600) loss: nan\n",
      "(Iteration 12901 / 19600) loss: nan\n",
      "(Iteration 13001 / 19600) loss: nan\n",
      "(Iteration 13101 / 19600) loss: nan\n",
      "(Iteration 13201 / 19600) loss: nan\n",
      "(Iteration 13301 / 19600) loss: nan\n",
      "(Iteration 13401 / 19600) loss: nan\n",
      "(Iteration 13501 / 19600) loss: nan\n",
      "(Iteration 13601 / 19600) loss: nan\n",
      "(Iteration 13701 / 19600) loss: nan\n",
      "(Epoch 14 / 20) train acc: 0.106000; val_acc: 0.087000\n",
      "(Iteration 13801 / 19600) loss: nan\n",
      "(Iteration 13901 / 19600) loss: nan\n",
      "(Iteration 14001 / 19600) loss: nan\n",
      "(Iteration 14101 / 19600) loss: nan\n",
      "(Iteration 14201 / 19600) loss: nan\n",
      "(Iteration 14301 / 19600) loss: nan\n",
      "(Iteration 14401 / 19600) loss: nan\n",
      "(Iteration 14501 / 19600) loss: nan\n",
      "(Iteration 14601 / 19600) loss: nan\n",
      "(Epoch 15 / 20) train acc: 0.102000; val_acc: 0.087000\n",
      "(Iteration 14701 / 19600) loss: nan\n",
      "(Iteration 14801 / 19600) loss: nan\n",
      "(Iteration 14901 / 19600) loss: nan\n",
      "(Iteration 15001 / 19600) loss: nan\n",
      "(Iteration 15101 / 19600) loss: nan\n",
      "(Iteration 15201 / 19600) loss: nan\n",
      "(Iteration 15301 / 19600) loss: nan\n",
      "(Iteration 15401 / 19600) loss: nan\n",
      "(Iteration 15501 / 19600) loss: nan\n",
      "(Iteration 15601 / 19600) loss: nan\n",
      "(Epoch 16 / 20) train acc: 0.096000; val_acc: 0.087000\n",
      "(Iteration 15701 / 19600) loss: nan\n",
      "(Iteration 15801 / 19600) loss: nan\n",
      "(Iteration 15901 / 19600) loss: nan\n",
      "(Iteration 16001 / 19600) loss: nan\n",
      "(Iteration 16101 / 19600) loss: nan\n",
      "(Iteration 16201 / 19600) loss: nan\n",
      "(Iteration 16301 / 19600) loss: nan\n",
      "(Iteration 16401 / 19600) loss: nan\n",
      "(Iteration 16501 / 19600) loss: nan\n",
      "(Iteration 16601 / 19600) loss: nan\n",
      "(Epoch 17 / 20) train acc: 0.102000; val_acc: 0.087000\n",
      "(Iteration 16701 / 19600) loss: nan\n",
      "(Iteration 16801 / 19600) loss: nan\n",
      "(Iteration 16901 / 19600) loss: nan\n",
      "(Iteration 17001 / 19600) loss: nan\n",
      "(Iteration 17101 / 19600) loss: nan\n",
      "(Iteration 17201 / 19600) loss: nan\n",
      "(Iteration 17301 / 19600) loss: nan\n",
      "(Iteration 17401 / 19600) loss: nan\n",
      "(Iteration 17501 / 19600) loss: nan\n",
      "(Iteration 17601 / 19600) loss: nan\n",
      "(Epoch 18 / 20) train acc: 0.098000; val_acc: 0.087000\n",
      "(Iteration 17701 / 19600) loss: nan\n",
      "(Iteration 17801 / 19600) loss: nan\n",
      "(Iteration 17901 / 19600) loss: nan\n",
      "(Iteration 18001 / 19600) loss: nan\n",
      "(Iteration 18101 / 19600) loss: nan\n",
      "(Iteration 18201 / 19600) loss: nan\n",
      "(Iteration 18301 / 19600) loss: nan\n",
      "(Iteration 18401 / 19600) loss: nan\n",
      "(Iteration 18501 / 19600) loss: nan\n",
      "(Iteration 18601 / 19600) loss: nan\n",
      "(Epoch 19 / 20) train acc: 0.107000; val_acc: 0.087000\n",
      "(Iteration 18701 / 19600) loss: nan\n",
      "(Iteration 18801 / 19600) loss: nan\n",
      "(Iteration 18901 / 19600) loss: nan\n",
      "(Iteration 19001 / 19600) loss: nan\n",
      "(Iteration 19101 / 19600) loss: nan\n",
      "(Iteration 19201 / 19600) loss: nan\n",
      "(Iteration 19301 / 19600) loss: nan\n",
      "(Iteration 19401 / 19600) loss: nan\n",
      "(Iteration 19501 / 19600) loss: nan\n",
      "(Epoch 20 / 20) train acc: 0.102000; val_acc: 0.087000\n"
     ]
    }
   ],
   "source": [
    "model = TwoLayerNet()\n",
    "solver = None\n",
    "\n",
    "##############################################################################\n",
    "# TODO: Use a Solver instance to train a TwoLayerNet that achieves at least  #\n",
    "# 50% accuracy on the validation set.                                        #\n",
    "##############################################################################\n",
    "# Create a Solver instance with SGD and train for enough epochs.\n",
    "solver = Solver(model, data,\n",
    "                update_rule='sgd',\n",
    "                optim_config={'learning_rate': 1e-2},\n",
    "                lr_decay=0.95,\n",
    "                num_epochs=20,\n",
    "                batch_size=50,\n",
    "                print_every=100,\n",
    "                verbose=True)\n",
    "\n",
    "solver.train()\n",
    "##############################################################################\n",
    "#                             END OF YOUR CODE                               #\n",
    "##############################################################################"
   ]
  },
  {
   "cell_type": "code",
   "execution_count": 13,
   "metadata": {
    "colab": {
     "base_uri": "https://localhost:8080/",
     "height": 730
    },
    "id": "aoDlB7B3-mvZ",
    "outputId": "787f8ed1-208a-4259-bf47-141a1826ddbf"
   },
   "outputs": [
    {
     "data": {
      "image/png": "[encoded data removed]",
      "text/plain": [
       "<Figure size 1500x1200 with 2 Axes>"
      ]
     },
     "metadata": {},
     "output_type": "display_data"
    }
   ],
   "source": [
    "# Run this cell to visualize training loss and train / val accuracy, and save the log file of the\n",
    "# experiment for submission.\n",
    "\n",
    "plt.subplot(2, 1, 1)\n",
    "plt.title('Training loss')\n",
    "plt.plot(solver.loss_history, 'o')\n",
    "plt.xlabel('Iteration')\n",
    "\n",
    "plt.subplot(2, 1, 2)\n",
    "plt.title('Accuracy')\n",
    "plt.plot(solver.train_acc_history, '-o', label='train')\n",
    "plt.plot(solver.val_acc_history, '-o', label='val')\n",
    "plt.plot([0.5] * len(solver.val_acc_history), 'k--')\n",
    "plt.xlabel('Epoch')\n",
    "plt.legend(loc='lower right')\n",
    "plt.gcf().set_size_inches(15, 12)\n",
    "plt.show()"
   ]
  },
  {
   "cell_type": "markdown",
   "metadata": {
    "id": "fPnhOwgs-mvZ"
   },
   "source": [
    "# Multilayer network\n",
    "Next you will implement a fully-connected network with an arbitrary number of hidden layers.\n",
    "\n",
    "Read through the `FullyConnectedNet` class in the file `deeplearning/classifiers/fc_net.py`.\n",
    "\n",
    "Implement the initialization, the forward pass, and the backward pass. For the moment don't worry about implementing dropout or batch normalization; we will add those features soon."
   ]
  },
  {
   "cell_type": "markdown",
   "metadata": {
    "id": "acYmIpOa-mvZ"
   },
   "source": [
    "## Initial loss and gradient check"
   ]
  },
  {
   "cell_type": "markdown",
   "metadata": {
    "id": "Jn4a9lIr-mvZ"
   },
   "source": [
    "As a sanity check, run the following to check the initial loss and to gradient check the network both with and without regularization. Do the initial losses seem reasonable?\n",
    "\n",
    "For gradient checking, you should expect to see errors around 1e-6 or less."
   ]
  },
  {
   "cell_type": "code",
   "execution_count": 14,
   "metadata": {
    "colab": {
     "base_uri": "https://localhost:8080/"
    },
    "id": "l2GgWqb6-mvZ",
    "outputId": "abfa5034-c4f8-4244-ca71-9ff0fee52901"
   },
   "outputs": [
    {
     "name": "stdout",
     "output_type": "stream",
     "text": [
      "Running check with reg =  0\n",
      "Initial loss:  2.2981682166385227\n",
      "W1 relative error: 1.32e-06\n",
      "W2 relative error: 1.43e-06\n",
      "W3 relative error: 1.75e-07\n",
      "b1 relative error: 7.74e-09\n",
      "b2 relative error: 1.10e-08\n",
      "b3 relative error: 1.17e-10\n",
      "Running check with reg =  3.14\n",
      "Initial loss:  6.861113424598866\n",
      "W1 relative error: 3.63e-09\n",
      "W2 relative error: 5.36e-08\n",
      "W3 relative error: 2.63e-08\n",
      "b1 relative error: 1.20e-07\n",
      "b2 relative error: 2.28e-06\n",
      "b3 relative error: 2.86e-10\n"
     ]
    }
   ],
   "source": [
    "N, D, H1, H2, C = 2, 15, 20, 30, 10\n",
    "X = np.random.randn(N, D)\n",
    "y = np.random.randint(C, size=(N,))\n",
    "\n",
    "for reg in [0, 3.14]:\n",
    "    print ('Running check with reg = ', reg)\n",
    "    model = FullyConnectedNet([H1, H2], input_dim=D, num_classes=C,\n",
    "                              reg=reg, weight_scale=5e-2, dtype=np.float64)\n",
    "\n",
    "    loss, grads = model.loss(X, y)\n",
    "    print ('Initial loss: ', loss)\n",
    "\n",
    "    for name in sorted(grads):\n",
    "        f = lambda _: model.loss(X, y)[0]\n",
    "        grad_num = eval_numerical_gradient(f, model.params[name], verbose=False, h=1e-5)\n",
    "        print ('%s relative error: %.2e' % (name, rel_error(grad_num, grads[name])))"
   ]
  },
  {
   "cell_type": "markdown",
   "metadata": {
    "id": "JAwlTiUM-mvZ"
   },
   "source": [
    "As another sanity check, make sure you can overfit a small dataset of 50 images. First we will try a three-layer network with 100 units in each hidden layer. You will need to tweak the learning rate and initialization scale, but you should be able to overfit and achieve 100% training accuracy within 20 epochs."
   ]
  },
  {
   "cell_type": "code",
   "execution_count": 20,
   "metadata": {
    "colab": {
     "base_uri": "https://localhost:8080/",
     "height": 958
    },
    "id": "x2GSa4JV-mvZ",
    "outputId": "e715ac58-c76e-4aa9-93f1-c8f4a74962f1"
   },
   "outputs": [
    {
     "name": "stdout",
     "output_type": "stream",
     "text": [
      "(Iteration 1 / 40) loss: 9.763344\n",
      "(Epoch 0 / 20) train acc: 0.240000; val_acc: 0.102000\n",
      "(Epoch 1 / 20) train acc: 0.280000; val_acc: 0.104000\n",
      "(Epoch 2 / 20) train acc: 0.500000; val_acc: 0.121000\n",
      "(Epoch 3 / 20) train acc: 0.560000; val_acc: 0.104000\n",
      "(Epoch 4 / 20) train acc: 0.700000; val_acc: 0.120000\n",
      "(Epoch 5 / 20) train acc: 0.800000; val_acc: 0.122000\n",
      "(Iteration 11 / 40) loss: 0.498118\n",
      "(Epoch 6 / 20) train acc: 0.880000; val_acc: 0.117000\n",
      "(Epoch 7 / 20) train acc: 0.940000; val_acc: 0.116000\n",
      "(Epoch 8 / 20) train acc: 0.920000; val_acc: 0.114000\n",
      "(Epoch 9 / 20) train acc: 0.960000; val_acc: 0.122000\n",
      "(Epoch 10 / 20) train acc: 0.980000; val_acc: 0.117000\n",
      "(Iteration 21 / 40) loss: 0.099997\n",
      "(Epoch 11 / 20) train acc: 1.000000; val_acc: 0.126000\n",
      "(Epoch 12 / 20) train acc: 1.000000; val_acc: 0.117000\n",
      "(Epoch 13 / 20) train acc: 1.000000; val_acc: 0.119000\n",
      "(Epoch 14 / 20) train acc: 1.000000; val_acc: 0.121000\n",
      "(Epoch 15 / 20) train acc: 1.000000; val_acc: 0.120000\n",
      "(Iteration 31 / 40) loss: 0.075226\n",
      "(Epoch 16 / 20) train acc: 1.000000; val_acc: 0.120000\n",
      "(Epoch 17 / 20) train acc: 1.000000; val_acc: 0.119000\n",
      "(Epoch 18 / 20) train acc: 1.000000; val_acc: 0.120000\n",
      "(Epoch 19 / 20) train acc: 1.000000; val_acc: 0.119000\n",
      "(Epoch 20 / 20) train acc: 1.000000; val_acc: 0.121000\n"
     ]
    },
    {
     "data": {
      "image/png": "[encoded data removed]",
      "text/plain": [
       "<Figure size 1000x800 with 1 Axes>"
      ]
     },
     "metadata": {},
     "output_type": "display_data"
    }
   ],
   "source": [
    "# TODO: Use a three-layer Net to overfit 50 training examples.\n",
    "weight_scale=3e-2\n",
    "learning_rate = 1e-3\n",
    "num_train = 50\n",
    "small_data = {\n",
    "  'X_train': data['X_train'][:num_train],\n",
    "  'y_train': data['y_train'][:num_train],\n",
    "  'X_val': data['X_val'],\n",
    "  'y_val': data['y_val'],\n",
    "}\n",
    "\n",
    "############################################################################\n",
    "############################################################################\n",
    "############################################################################\n",
    "#                             END OF YOUR CODE                             #\n",
    "############################################################################\n",
    "\n",
    "model = FullyConnectedNet([100, 100],\n",
    "              weight_scale=weight_scale, dtype=np.float64)\n",
    "solver = Solver(model, small_data,\n",
    "                print_every=10, num_epochs=20, batch_size=25,\n",
    "                update_rule='sgd',\n",
    "                optim_config={\n",
    "                  'learning_rate': learning_rate,\n",
    "                }\n",
    "         )\n",
    "solver.train()\n",
    "\n",
    "plt.plot(solver.loss_history, 'o')\n",
    "plt.title('Training loss history')\n",
    "plt.xlabel('Iteration')\n",
    "plt.ylabel('Training loss')\n",
    "plt.show()"
   ]
  },
  {
   "cell_type": "markdown",
   "metadata": {
    "id": "z3XtDJFd-mva"
   },
   "source": [
    "Now try to use a five-layer network with 100 units on each layer to overfit 50 training examples. Again you will have to adjust the learning rate and weight initialization, but you should be able to achieve 100% training accuracy within 20 epochs."
   ]
  },
  {
   "cell_type": "code",
   "execution_count": 23,
   "metadata": {
    "colab": {
     "base_uri": "https://localhost:8080/",
     "height": 958
    },
    "id": "M4iY4Pv--mva",
    "outputId": "28646dc8-c8ff-4085-898a-93674ab25f4f"
   },
   "outputs": [
    {
     "name": "stdout",
     "output_type": "stream",
     "text": [
      "(Iteration 1 / 40) loss: 161.545669\n",
      "(Epoch 0 / 20) train acc: 0.200000; val_acc: 0.113000\n",
      "(Epoch 1 / 20) train acc: 0.240000; val_acc: 0.125000\n",
      "(Epoch 2 / 20) train acc: 0.440000; val_acc: 0.090000\n",
      "(Epoch 3 / 20) train acc: 0.680000; val_acc: 0.156000\n",
      "(Epoch 4 / 20) train acc: 0.640000; val_acc: 0.130000\n",
      "(Epoch 5 / 20) train acc: 0.800000; val_acc: 0.112000\n",
      "(Iteration 11 / 40) loss: 0.889363\n",
      "(Epoch 6 / 20) train acc: 0.900000; val_acc: 0.120000\n",
      "(Epoch 7 / 20) train acc: 0.960000; val_acc: 0.128000\n",
      "(Epoch 8 / 20) train acc: 0.960000; val_acc: 0.128000\n",
      "(Epoch 9 / 20) train acc: 1.000000; val_acc: 0.129000\n",
      "(Epoch 10 / 20) train acc: 1.000000; val_acc: 0.128000\n",
      "(Iteration 21 / 40) loss: 0.001097\n",
      "(Epoch 11 / 20) train acc: 1.000000; val_acc: 0.128000\n",
      "(Epoch 12 / 20) train acc: 1.000000; val_acc: 0.128000\n",
      "(Epoch 13 / 20) train acc: 1.000000; val_acc: 0.128000\n",
      "(Epoch 14 / 20) train acc: 1.000000; val_acc: 0.128000\n",
      "(Epoch 15 / 20) train acc: 1.000000; val_acc: 0.129000\n",
      "(Iteration 31 / 40) loss: 0.000199\n",
      "(Epoch 16 / 20) train acc: 1.000000; val_acc: 0.129000\n",
      "(Epoch 17 / 20) train acc: 1.000000; val_acc: 0.129000\n",
      "(Epoch 18 / 20) train acc: 1.000000; val_acc: 0.129000\n",
      "(Epoch 19 / 20) train acc: 1.000000; val_acc: 0.129000\n",
      "(Epoch 20 / 20) train acc: 1.000000; val_acc: 0.129000\n"
     ]
    },
    {
     "data": {
      "image/png": "[encoded data removed]",
      "text/plain": [
       "<Figure size 1000x800 with 1 Axes>"
      ]
     },
     "metadata": {},
     "output_type": "display_data"
    }
   ],
   "source": [
    "## TODO: Use a five-layer Net to overfit 50 training examples.\n",
    "weight_scale=1e-1\n",
    "learning_rate = 1e-3\n",
    "num_train = 50\n",
    "small_data = {\n",
    "  'X_train': data['X_train'][:num_train],\n",
    "  'y_train': data['y_train'][:num_train],\n",
    "  'X_val': data['X_val'],\n",
    "  'y_val': data['y_val'],\n",
    "}\n",
    "\n",
    "############################################################################\n",
    "# TODO: Tune these parameters to get 100% train accuracy within 20 epochs. #\n",
    "############################################################################\n",
    "############################################################################\n",
    "#                             END OF YOUR CODE                             #\n",
    "############################################################################\n",
    "\n",
    "model = FullyConnectedNet([100, 100, 100, 100],\n",
    "                weight_scale=weight_scale, dtype=np.float64)\n",
    "solver = Solver(model, small_data,\n",
    "                print_every=10, num_epochs=20, batch_size=25,\n",
    "                update_rule='sgd',\n",
    "                optim_config={\n",
    "                  'learning_rate': learning_rate,\n",
    "                }\n",
    "         )\n",
    "solver.train()\n",
    "\n",
    "plt.plot(solver.loss_history, 'o')\n",
    "plt.title('Training loss history')\n",
    "plt.xlabel('Iteration')\n",
    "plt.ylabel('Training loss')\n",
    "plt.show()"
   ]
  },
  {
   "cell_type": "markdown",
   "metadata": {},
   "source": [
    "# Question: \n",
    "Did you notice anything about the comparative difficulty of training the three-layer net vs training the five layer net?\n",
    "\n",
    "**Please include your response in the written assignment submission.**\n"
   ]
  },
  {
   "cell_type": "markdown",
   "metadata": {},
   "source": [
    "The five-layer network required a higher weight scale (by an order of magnitude) to overfit the training set within 20 iterations compared to the three-layer network."
   ]
  },
  {
   "cell_type": "markdown",
   "metadata": {},
   "source": [
    "I referenced ChatGPT and NumPy documentation for parts of this assignment."
   ]
  }
 ],
 "metadata": {
  "colab": {
   "provenance": []
  },
  "kernelspec": {
   "display_name": "Python (uv-env)",
   "language": "python",
   "name": "uv-env"
  },
  "language_info": {
   "codemirror_mode": {
    "name": "ipython",
    "version": 3
   },
   "file_extension": ".py",
   "mimetype": "text/x-python",
   "name": "python",
   "nbconvert_exporter": "python",
   "pygments_lexer": "ipython3",
   "version": "3.13.1"
  }
 },
 "nbformat": 4,
 "nbformat_minor": 1
}
